{
 "cells": [
  {
   "cell_type": "markdown",
   "metadata": {},
   "source": [
    "#### 3/4. Fill the empty cells"
   ]
  },
  {
   "cell_type": "code",
   "execution_count": 15,
   "metadata": {},
   "outputs": [
    {
     "name": "stdout",
     "output_type": "stream",
     "text": [
      "[0 2 2 1 0 3 0 0 0 2 3 3 1 2 0 3 2 1 2 2 1 1 2 3 3 1 1 3 2 2 0 0 0 1 1 1 3\n",
      " 3 1 0 3 1 3 2 0 1 0 0 0 2 3 3 1 1 3 0 1 1 3 3 3 2 0 1 1 2 3 3 2 0 2 0 3 0\n",
      " 3 1 2 0 1 0 2 3 3 0 2 2 2 0 2 1 1 1 1 2 0 2 2 0 0 3]\n",
      "[1 2 2 0 1 3 1 1 1 2 3 3 0 2 1 3 2 0 2 2 0 0 2 3 3 0 0 3 2 2 1 1 1 0 0 0 3\n",
      " 3 0 1 3 0 3 2 1 0 1 1 1 2 3 3 0 0 3 1 0 0 3 3 3 2 1 0 0 2 3 3 2 1 2 1 3 1\n",
      " 3 0 2 1 0 1 2 3 3 1 2 2 2 1 2 0 0 0 0 2 1 2 2 1 1 3]\n"
     ]
    }
   ],
   "source": [
    "import numpy as np\n",
    "from sklearn.cluster import KMeans\n",
    "from sklearn.datasets import make_blobs\n",
    "\n",
    "# Creating a sample dataset with 4 clusters\n",
    "X, y = make_blobs(n_samples=100, n_features=3, centers=4)\n",
    "\n",
    "# Initializing KMeans with 4 clusters\n",
    "kmeans = KMeans(n_clusters=4, algorithm = 'auto')\n",
    "\n",
    "# Fitting with inputs\n",
    "kmeans = kmeans.fit(X)\n",
    "\n",
    "# Labelling the clusters\n",
    "labels = kmeans.fit_predict(X)\n",
    "print(labels)\n",
    "\n",
    "# Getting the cluster centers\n",
    "C = kmeans.fit_predict(X)\n",
    "print(C)"
   ]
  },
  {
   "cell_type": "markdown",
   "metadata": {},
   "source": [
    "#### 5. n_jobs? \n",
    "int. \n",
    "\n",
    "\n",
    "The number of jobs to use for the computation. This works by computing each of the n_init runs in parallel.\n",
    "If -1 all CPUs are used. If 1 is given, no parallel computing code is used at all, which is useful for debugging. For n_jobs below -1, (n_cpus + 1 + n_jobs) are used. Thus for n_jobs = -2, all CPUs but one are used."
   ]
  },
  {
   "cell_type": "markdown",
   "metadata": {},
   "source": [
    "#### Lab2given.py   xclara.csv"
   ]
  },
  {
   "cell_type": "code",
   "execution_count": 20,
   "metadata": {},
   "outputs": [
    {
     "name": "stdout",
     "output_type": "stream",
     "text": [
      "Input Data and Shape\n",
      "(3000, 2)\n"
     ]
    },
    {
     "data": {
      "text/html": [
       "<div>\n",
       "<style scoped>\n",
       "    .dataframe tbody tr th:only-of-type {\n",
       "        vertical-align: middle;\n",
       "    }\n",
       "\n",
       "    .dataframe tbody tr th {\n",
       "        vertical-align: top;\n",
       "    }\n",
       "\n",
       "    .dataframe thead th {\n",
       "        text-align: right;\n",
       "    }\n",
       "</style>\n",
       "<table border=\"1\" class=\"dataframe\">\n",
       "  <thead>\n",
       "    <tr style=\"text-align: right;\">\n",
       "      <th></th>\n",
       "      <th>V1</th>\n",
       "      <th>V2</th>\n",
       "    </tr>\n",
       "  </thead>\n",
       "  <tbody>\n",
       "    <tr>\n",
       "      <th>0</th>\n",
       "      <td>2.072345</td>\n",
       "      <td>-3.241693</td>\n",
       "    </tr>\n",
       "    <tr>\n",
       "      <th>1</th>\n",
       "      <td>17.936710</td>\n",
       "      <td>15.784810</td>\n",
       "    </tr>\n",
       "    <tr>\n",
       "      <th>2</th>\n",
       "      <td>1.083576</td>\n",
       "      <td>7.319176</td>\n",
       "    </tr>\n",
       "    <tr>\n",
       "      <th>3</th>\n",
       "      <td>11.120670</td>\n",
       "      <td>14.406780</td>\n",
       "    </tr>\n",
       "    <tr>\n",
       "      <th>4</th>\n",
       "      <td>23.711550</td>\n",
       "      <td>2.557729</td>\n",
       "    </tr>\n",
       "  </tbody>\n",
       "</table>\n",
       "</div>"
      ],
      "text/plain": [
       "          V1         V2\n",
       "0   2.072345  -3.241693\n",
       "1  17.936710  15.784810\n",
       "2   1.083576   7.319176\n",
       "3  11.120670  14.406780\n",
       "4  23.711550   2.557729"
      ]
     },
     "execution_count": 20,
     "metadata": {},
     "output_type": "execute_result"
    }
   ],
   "source": [
    "from copy import deepcopy\n",
    "import numpy as np\n",
    "import pandas as pd\n",
    "from sklearn.datasets import make_blobs\n",
    "from joblib import Parallel, delayed\n",
    "\n",
    "# Importing the dataset\n",
    "data = pd.read_csv('/home/danni/Dropbox/Year3SemA/CS4480 Data-Intensive/Lab/lab2/xclara.csv')\n",
    "print(\"Input Data and Shape\")\n",
    "print(data.shape)\n",
    "data.head()"
   ]
  },
  {
   "cell_type": "code",
   "execution_count": 18,
   "metadata": {},
   "outputs": [
    {
     "name": "stdout",
     "output_type": "stream",
     "text": [
      "[[  2.072345  -3.241693]\n",
      " [ 17.93671   15.78481 ]\n",
      " [  1.083576   7.319176]\n",
      " ...\n",
      " [ 64.46532  -10.50136 ]\n",
      " [ 90.72282  -12.25584 ]\n",
      " [ 64.87976  -24.87731 ]]\n",
      "Initial Centroids\n",
      "[[64. 15.]\n",
      " [ 7. 35.]\n",
      " [71. 62.]]\n"
     ]
    }
   ],
   "source": [
    "# Getting the values and plotting it\n",
    "f1 = data['V1'].values\n",
    "f2 = data['V2'].values\n",
    "X = np.array(list(zip(f1, f2)))\n",
    "\n",
    "print(X)\n",
    "\n",
    "# Euclidean Distance Caculator\n",
    "def dist(a, b, ax=1):\n",
    "    return np.linalg.norm(a - b, axis=ax)\n",
    "\n",
    "# Number of clusters\n",
    "k = 3\n",
    "# X coordinates of random centroids\n",
    "C_x = np.random.randint(0, np.max(X)-20, size=k)\n",
    "# Y coordinates of random centroids\n",
    "C_y = np.random.randint(0, np.max(X)-20, size=k)\n",
    "C = np.array(list(zip(C_x, C_y)), dtype=np.float32)\n",
    "print(\"Initial Centroids\")\n",
    "print(C)"
   ]
  },
  {
   "cell_type": "code",
   "execution_count": 12,
   "metadata": {},
   "outputs": [
    {
     "name": "stdout",
     "output_type": "stream",
     "text": [
      "[[0. 0.]\n",
      " [0. 0.]\n",
      " [0. 0.]]\n"
     ]
    }
   ],
   "source": [
    "# To store the value of centroids when it updates\n",
    "C_old = np.zeros(C.shape)\n",
    "print(C_old)"
   ]
  },
  {
   "cell_type": "code",
   "execution_count": 13,
   "metadata": {},
   "outputs": [
    {
     "name": "stdout",
     "output_type": "stream",
     "text": [
      "[0. 0. 0. ... 0. 0. 0.]\n"
     ]
    }
   ],
   "source": [
    "# Cluster Lables(0, 1, 2)\n",
    "clusters = np.zeros(len(X))\n",
    "print(clusters)"
   ]
  },
  {
   "cell_type": "code",
   "execution_count": 14,
   "metadata": {},
   "outputs": [
    {
     "name": "stdout",
     "output_type": "stream",
     "text": [
      "124.11285187280163\n"
     ]
    }
   ],
   "source": [
    "# Error func. - Distance between new centroids and old centroids\n",
    "error = dist(C, C_old, None)\n",
    "print(error)"
   ]
  },
  {
   "cell_type": "code",
   "execution_count": 26,
   "metadata": {},
   "outputs": [
    {
     "ename": "TypeError",
     "evalue": "object of type 'numpy.int64' has no len()",
     "output_type": "error",
     "traceback": [
      "\u001b[0;31m---------------------------------------------------------------------------\u001b[0m",
      "\u001b[0;31mTypeError\u001b[0m                                 Traceback (most recent call last)",
      "\u001b[0;32m<ipython-input-26-5e6a3c4d4ac0>\u001b[0m in \u001b[0;36m<module>\u001b[0;34m()\u001b[0m\n\u001b[1;32m     20\u001b[0m     \u001b[0mC_old\u001b[0m \u001b[0;34m=\u001b[0m \u001b[0mdeepcopy\u001b[0m\u001b[0;34m(\u001b[0m\u001b[0mC\u001b[0m\u001b[0;34m)\u001b[0m\u001b[0;34m\u001b[0m\u001b[0m\n\u001b[1;32m     21\u001b[0m     \u001b[0;31m# 2.Finding the new centroids by taking the average value\u001b[0m\u001b[0;34m\u001b[0m\u001b[0;34m\u001b[0m\u001b[0m\n\u001b[0;32m---> 22\u001b[0;31m     \u001b[0mC\u001b[0m \u001b[0;34m=\u001b[0m \u001b[0mcentroidcompute\u001b[0m\u001b[0;34m(\u001b[0m\u001b[0mC\u001b[0m\u001b[0;34m,\u001b[0m\u001b[0mC_old\u001b[0m\u001b[0;34m)\u001b[0m\u001b[0;34m\u001b[0m\u001b[0m\n\u001b[0m",
      "\u001b[0;32m<ipython-input-26-5e6a3c4d4ac0>\u001b[0m in \u001b[0;36mcentroidcompute\u001b[0;34m(X, ci)\u001b[0m\n\u001b[1;32m     10\u001b[0m \u001b[0;31m# Finding the new centroids by taking the average value\u001b[0m\u001b[0;34m\u001b[0m\u001b[0;34m\u001b[0m\u001b[0m\n\u001b[1;32m     11\u001b[0m \u001b[0;32mdef\u001b[0m \u001b[0mcentroidcompute\u001b[0m\u001b[0;34m(\u001b[0m\u001b[0mX\u001b[0m\u001b[0;34m,\u001b[0m\u001b[0mci\u001b[0m\u001b[0;34m)\u001b[0m\u001b[0;34m:\u001b[0m\u001b[0;34m\u001b[0m\u001b[0m\n\u001b[0;32m---> 12\u001b[0;31m     \u001b[0mpoints\u001b[0m \u001b[0;34m=\u001b[0m \u001b[0;34m[\u001b[0m\u001b[0mX\u001b[0m\u001b[0;34m[\u001b[0m\u001b[0mj\u001b[0m\u001b[0;34m]\u001b[0m \u001b[0;32mfor\u001b[0m \u001b[0mj\u001b[0m \u001b[0;32min\u001b[0m \u001b[0mrange\u001b[0m\u001b[0;34m(\u001b[0m\u001b[0mlen\u001b[0m\u001b[0;34m(\u001b[0m\u001b[0mX\u001b[0m\u001b[0;34m)\u001b[0m\u001b[0;34m)\u001b[0m \u001b[0;32mif\u001b[0m \u001b[0mclusters\u001b[0m\u001b[0;34m[\u001b[0m\u001b[0mj\u001b[0m\u001b[0;34m]\u001b[0m \u001b[0;34m==\u001b[0m \u001b[0mi\u001b[0m\u001b[0;34m]\u001b[0m\u001b[0;34m\u001b[0m\u001b[0m\n\u001b[0m\u001b[1;32m     13\u001b[0m     \u001b[0;32mreturn\u001b[0m \u001b[0mnp\u001b[0m\u001b[0;34m.\u001b[0m\u001b[0mmean\u001b[0m\u001b[0;34m(\u001b[0m\u001b[0mpoints\u001b[0m\u001b[0;34m,\u001b[0m \u001b[0maxis\u001b[0m\u001b[0;34m=\u001b[0m\u001b[0;36m0\u001b[0m\u001b[0;34m)\u001b[0m\u001b[0;34m\u001b[0m\u001b[0m\n\u001b[1;32m     14\u001b[0m \u001b[0;34m\u001b[0m\u001b[0m\n",
      "\u001b[0;31mTypeError\u001b[0m: object of type 'numpy.int64' has no len()"
     ]
    }
   ],
   "source": [
    "# define 2 parallel functions\n",
    "# Assigning each value to its closest cluster\n",
    "def assignment(clusters,X):\n",
    "    distances = dist(clusters, X)\n",
    "    cluster = np.argmin(distances)\n",
    "    ci = cluster\n",
    "    return ci\n",
    "\n",
    "\n",
    "# Finding the new centroids by taking the average value\n",
    "def centroidcompute(X,ci):\n",
    "    points = [X[j] for j in range(len(X)) if clusters[j] == i]\n",
    "    return np.mean(points, axis=0)\n",
    "\n",
    "# Loop will run till the error becomes zero\n",
    "while error != 0:\n",
    "    # 1.Assigning each value to its closest cluster\n",
    "    C = assignment(C, C_old)\n",
    "    # Storing the old centroid values\n",
    "    C_old = deepcopy(C)\n",
    "    # 2.Finding the new centroids by taking the average value\n",
    "    C = Parrallel(centroidcompute(C,C_old))"
   ]
  },
  {
   "cell_type": "code",
   "execution_count": 6,
   "metadata": {},
   "outputs": [
    {
     "name": "stdout",
     "output_type": "stream",
     "text": [
      "Final Centroid Values\n",
      "From scratch done by us:\n",
      "[[73.  2.]\n",
      " [71. 16.]\n",
      " [49. 42.]]\n",
      "From scikit-learn package:\n",
      "[[ 69.92418447 -10.11964119]\n",
      " [ 40.68362784  59.71589274]\n",
      " [  9.4780459   10.686052  ]]\n"
     ]
    }
   ],
   "source": [
    "\n",
    "    ##Assigning each value to its closest cluster\n",
    "    #for i in range(len(X)):\n",
    "    #    distances = dist(X[i], C)\n",
    "    #    cluster = np.argmin(distances)\n",
    "    #    clusters[i] = cluster\n",
    "    #\n",
    "    # Storing the old centroid values\n",
    "    #C_old = deepcopy(C)\n",
    "    #\n",
    "    #\n",
    "    # Finding the new centroids by taking the average value\n",
    "    #for i in range(k):\n",
    "    #    points = [X[j] for j in range(len(X)) if clusters[j] == i]\n",
    "    #    C[i] = np.mean(points, axis=0)\n",
    "    #error = dist(C, C_old, None) \n",
    "    \n",
    "'''\n",
    "==========================================================\n",
    "scikit-learn\n",
    "==========================================================\n",
    "'''\n",
    "\n",
    "from sklearn.cluster import KMeans\n",
    "\n",
    "# Number of clusters\n",
    "kmeans = KMeans(n_clusters=3)\n",
    "# Fitting the input data\n",
    "kmeans = kmeans.fit(X)\n",
    "# Getting the cluster labels\n",
    "labels = kmeans.predict(X)\n",
    "# Centroid values\n",
    "centroids = kmeans.cluster_centers_\n",
    "\n",
    "# Comparing with scikit-learn centroids\n",
    "print(\"Final Centroid Values\")\n",
    "print(\"From scratch done by us:\")\n",
    "print(C) # From Scratch\n",
    "print(\"From scikit-learn package:\")\n",
    "print(centroids) # From sci-kit learn"
   ]
  }
 ],
 "metadata": {
  "kernelspec": {
   "display_name": "Python 3",
   "language": "python",
   "name": "python3"
  },
  "language_info": {
   "codemirror_mode": {
    "name": "ipython",
    "version": 3
   },
   "file_extension": ".py",
   "mimetype": "text/x-python",
   "name": "python",
   "nbconvert_exporter": "python",
   "pygments_lexer": "ipython3",
   "version": "3.6.5"
  }
 },
 "nbformat": 4,
 "nbformat_minor": 2
}
